{
  "nbformat": 4,
  "nbformat_minor": 0,
  "metadata": {
    "colab": {
      "provenance": []
    },
    "kernelspec": {
      "name": "python3",
      "display_name": "Python 3"
    },
    "language_info": {
      "name": "python"
    }
  },
  "cells": [
    {
      "cell_type": "markdown",
      "source": [
        "# Module 4 Assignment:-\n"
      ],
      "metadata": {
        "id": "YuwgOcDrVRA0"
      }
    },
    {
      "cell_type": "markdown",
      "source": [
        "1. Build a simple webpage that displays text as shown in the below image"
      ],
      "metadata": {
        "id": "K89j2S0BV3YL"
      }
    },
    {
      "cell_type": "code",
      "source": [
        "<!DOCTYPE html>\n",
        "<html lang=\"en\">\n",
        "<head>\n",
        "    <meta charset=\"UTF-8\">\n",
        "    <meta name=\"viewport\" content=\"width=device-width, initial-scale=1.0\">\n",
        "    <title>Document</title>\n",
        "</head>\n",
        "<body>\n",
        "    <div>\n",
        "        <b>This text will be bolded.</b>\n",
        "    </div>\n",
        "\n",
        "    <br/>\n",
        "\n",
        "    <div>\n",
        "        <i>This text will be italic.</i>\n",
        "    </div>\n",
        "\n",
        "    <br/>\n",
        "\n",
        "    <div>\n",
        "        <u>This text will be underlined.</u>\n",
        "    </div>\n",
        "\n",
        "    <br/>\n",
        "\n",
        "    <div>\n",
        "        <mark>This text will be highlighted.</mark>\n",
        "    </div>\n",
        "\n",
        "    <br/>\n",
        "\n",
        "    <div>\n",
        "        This is normal text  <sup>This will be super scripted </sup> This is normal again.\n",
        "\n",
        "    </div>\n",
        "\n",
        "    <br/>\n",
        "\n",
        "    <div>\n",
        "\n",
        "        This is normal text <sub>This will be subscripted</sub>\n",
        "\n",
        "    </div>\n",
        "\n",
        "    <br/>\n",
        "\n",
        "    <div>\n",
        "\n",
        "        Normal Text <small> Small Text</small>\n",
        "\n",
        "    </div>\n",
        "\n",
        "    <br/>\n",
        "\n",
        "    <div>\n",
        "\n",
        "        <s>This text will be deleted</s>\n",
        "\n",
        "    </div>\n",
        "\n",
        "    <br/>\n",
        "\n",
        "</body>\n",
        "</html>"
      ],
      "metadata": {
        "colab": {
          "base_uri": "https://localhost:8080/",
          "height": 106
        },
        "id": "CHyM7HInnM5s",
        "outputId": "877d15b7-1edf-46b1-c407-de7d25e00e31"
      },
      "execution_count": null,
      "outputs": [
        {
          "output_type": "error",
          "ename": "SyntaxError",
          "evalue": "invalid syntax (<ipython-input-15-b7348d4c2779>, line 1)",
          "traceback": [
            "\u001b[0;36m  File \u001b[0;32m\"<ipython-input-15-b7348d4c2779>\"\u001b[0;36m, line \u001b[0;32m1\u001b[0m\n\u001b[0;31m    <!DOCTYPE html>\u001b[0m\n\u001b[0m    ^\u001b[0m\n\u001b[0;31mSyntaxError\u001b[0m\u001b[0;31m:\u001b[0m invalid syntax\n"
          ]
        }
      ]
    },
    {
      "cell_type": "markdown",
      "source": [
        "2. Build a simple webpage that helps users navigate different web development-related websites. Note: On\n",
        "clicking the hyperlink the web pages should open in a new tab. Below is a reference image."
      ],
      "metadata": {
        "id": "l9ddtk3VnPxo"
      }
    },
    {
      "cell_type": "code",
      "source": [
        "<!DOCTYPE html>\n",
        "<html lang=\"en\">\n",
        "<head>\n",
        "    <meta charset=\"UTF-8\">\n",
        "    <meta name=\"viewport\" content=\"width=device-width, initial-scale=1.0\">\n",
        "    <title>Document</title>\n",
        "</head>\n",
        "<body>\n",
        "<div>\n",
        "    <h1>Navigate Me:</h1>\n",
        "    <br/>\n",
        "\n",
        "    Take Me to <a href=\"https://pwskills.com/\" target=\"_blank\" > <u>PW Skills</u> </a> to buy a course.\n",
        "\n",
        "</div>\n",
        "\n",
        "<br/>\n",
        "\n",
        "<div>\n",
        "\n",
        "    Take me to <a href=\"https://developer.mozilla.org/en-US/docs/Learn_web_development\" target=\"_blank\">  <u>MDN Docs</u></a> to know more about the web development\n",
        "</div>\n",
        "\n",
        "<br/>\n",
        "\n",
        "<div>\n",
        "\n",
        "    Take me to <a href=\"https://lab.pwskills.com/\" target=\"_blank\">  <u>PW Skills Lab</u></a> to practice live coding.\n",
        "</div>\n",
        "\n",
        "<br/>\n",
        "\n",
        "\n",
        "\n",
        "</body>\n",
        "</html>"
      ],
      "metadata": {
        "colab": {
          "base_uri": "https://localhost:8080/",
          "height": 106
        },
        "id": "wuu70uH2nZaI",
        "outputId": "d5878135-757f-46a2-af03-0a514612f582"
      },
      "execution_count": null,
      "outputs": [
        {
          "output_type": "error",
          "ename": "SyntaxError",
          "evalue": "invalid syntax (<ipython-input-12-150240f6d363>, line 1)",
          "traceback": [
            "\u001b[0;36m  File \u001b[0;32m\"<ipython-input-12-150240f6d363>\"\u001b[0;36m, line \u001b[0;32m1\u001b[0m\n\u001b[0;31m    <!DOCTYPE html>\u001b[0m\n\u001b[0m    ^\u001b[0m\n\u001b[0;31mSyntaxError\u001b[0m\u001b[0;31m:\u001b[0m invalid syntax\n"
          ]
        }
      ]
    },
    {
      "cell_type": "markdown",
      "source": [
        "3. Build a simple blog web page with 3 pages home, web development, and web design. Each page must\n",
        "contain hyperlinks to other pages in the top, a heading of the page topic and a paragraph of information.\n",
        "For the home page you can add some information about yourself."
      ],
      "metadata": {
        "id": "bd8dY6R4zghQ"
      }
    },
    {
      "cell_type": "code",
      "source": [
        "<!DOCTYPE html>\n",
        "<html lang=\"en\">\n",
        "<head>\n",
        "  <meta charset=\"UTF-8\">\n",
        "  <meta name=\"viewport\" content=\"width=device-width, initial-scale=1.0\">\n",
        "  <title>Home - My Simple Blog</title>\n",
        "</head>\n",
        "<body>\n",
        "  <nav>\n",
        "    <a href=\"index.html\">Home</a>\n",
        "    <a href=\"web-development.html\">Web Development</a>\n",
        "    <a href=\"web-design.html\">Web Design</a>\n",
        "  </nav>\n",
        "\n",
        "  <div>\n",
        "    <h1>Welcome to My Blog</h1>\n",
        "    <p>Hi, I'm Alam Basha! I'm a passionate web developer and designer who enjoys creating beautiful, user-friendly websites. This blog is where I share my thoughts, tips, and resources on web development and design. Whether you're a beginner or a pro, I hope you'll find something useful here!</p>\n",
        "  </div>\n",
        "</body>\n",
        "</html>"
      ],
      "metadata": {
        "id": "yuhUXeBfznDk"
      },
      "execution_count": null,
      "outputs": []
    },
    {
      "cell_type": "markdown",
      "source": [
        "4. Create an ordered list of HTML tags. Each list item must include the tag name and some information about\n",
        "the tag."
      ],
      "metadata": {
        "id": "JutWV16s0zQM"
      }
    },
    {
      "cell_type": "code",
      "source": [
        "<!DOCTYPE html>\n",
        "<html lang=\"en\">\n",
        "<head>\n",
        "    <meta charset=\"UTF-8\">\n",
        "    <meta name=\"viewport\" content=\"width=device-width, initial-scale=1.0\">\n",
        "    <title>Document</title>\n",
        "</head>\n",
        "<body>\n",
        "    <ol>\n",
        "        <li>\n",
        "          <strong>&lt;html&gt;</strong> - The root element of an HTML document. It wraps all the content on the page.\n",
        "        </li>\n",
        "        <li>\n",
        "          <strong>&lt;head&gt;</strong> - Contains metadata, links to stylesheets, scripts, and other information not visible on the webpage.\n",
        "        </li>\n",
        "        <li>\n",
        "          <strong>&lt;title&gt;</strong> - Sets the title of the webpage, which appears in the browser tab.\n",
        "        </li>\n",
        "        <li>\n",
        "          <strong>&lt;body&gt;</strong> - Encloses all the visible content of the webpage like text, images, and other elements.\n",
        "        </li>\n",
        "        <li>\n",
        "          <strong>&lt;h1&gt; to &lt;h6&gt;</strong> - Define headings, with &lt;h1&gt; being the most important and &lt;h6&gt; the least.\n",
        "        </li>\n",
        "        <li>\n",
        "          <strong>&lt;p&gt;</strong> - Represents a paragraph of text.\n",
        "        </li>\n",
        "        <li>\n",
        "          <strong>&lt;a&gt;</strong> - Defines a hyperlink, used to link to other pages or sections.\n",
        "        </li>\n",
        "        <li>\n",
        "          <strong>&lt;img&gt;</strong> - Embeds an image in the page. Requires the \"src\" attribute to specify the image source.\n",
        "        </li>\n",
        "        <li>\n",
        "          <strong>&lt;ul&gt;</strong> - Creates an unordered (bulleted) list.\n",
        "        </li>\n",
        "        <li>\n",
        "          <strong>&lt;ol&gt;</strong> - Creates an ordered (numbered) list.\n",
        "        </li>\n",
        "        <li>\n",
        "          <strong>&lt;li&gt;</strong> - Defines a list item, used inside &lt;ul&gt; or &lt;ol&gt;.\n",
        "        </li>\n",
        "        <li>\n",
        "          <strong>&lt;div&gt;</strong> - A container element used to group and style sections of content.\n",
        "        </li>\n",
        "        <li>\n",
        "          <strong>&lt;span&gt;</strong> - An inline container used to apply styling or attributes to part of the text.\n",
        "        </li>\n",
        "        <li>\n",
        "          <strong>&lt;form&gt;</strong> - Creates an HTML form for user input.\n",
        "        </li>\n",
        "        <li>\n",
        "          <strong>&lt;input&gt;</strong> - Represents a control in a form that accepts user input.\n",
        "        </li>\n",
        "        <li>\n",
        "          <strong>&lt;button&gt;</strong> - Defines a clickable button.\n",
        "        </li>\n",
        "        <li>\n",
        "          <strong>&lt;table&gt;</strong> - Creates a table to display data in rows and columns.\n",
        "        </li>\n",
        "        <li>\n",
        "          <strong>&lt;tr&gt;</strong> - Defines a row in a table.\n",
        "        </li>\n",
        "        <li>\n",
        "          <strong>&lt;td&gt;</strong> - Defines a cell in a table row.\n",
        "        </li>\n",
        "        <li>\n",
        "          <strong>&lt;th&gt;</strong> - Defines a header cell in a table.\n",
        "        </li>\n",
        "      </ol>\n",
        "\n",
        "</body>\n",
        "</html>"
      ],
      "metadata": {
        "id": "bWNWdh2I062L"
      },
      "execution_count": null,
      "outputs": []
    },
    {
      "cell_type": "markdown",
      "source": [
        "5. Create a description list of full stack web development tech stack, using the <dl> tag. Each term should be\n",
        "a tech stack name and each description should be a brief explanation of what the tech stack is used for"
      ],
      "metadata": {
        "id": "fdi3WBwI6-bl"
      }
    },
    {
      "cell_type": "code",
      "source": [
        "<!DOCTYPE html>\n",
        "<html lang=\"en\">\n",
        "<head>\n",
        "    <meta charset=\"UTF-8\">\n",
        "    <meta name=\"viewport\" content=\"width=device-width, initial-scale=1.0\">\n",
        "    <title>Document</title>\n",
        "</head>\n",
        "<body>\n",
        "    <dl>\n",
        "        <dt><strong>HTML</strong></dt>\n",
        "        <dd>The standard markup language used to create the structure of web pages.</dd>\n",
        "\n",
        "        <dt><strong>CSS</strong></dt>\n",
        "        <dd>A stylesheet language used for describing the presentation and design of web pages.</dd>\n",
        "\n",
        "        <dt><strong>JavaScript</strong></dt>\n",
        "        <dd>A programming language used to create dynamic and interactive content on websites.</dd>\n",
        "\n",
        "        <dt><strong>React</strong></dt>\n",
        "        <dd>A JavaScript library for building fast and interactive user interfaces.</dd>\n",
        "\n",
        "\n",
        "        <dt><strong>Node.js</strong></dt>\n",
        "        <dd>A JavaScript runtime built on Chrome's V8 engine, used for building scalable server-side applications.</dd>\n",
        "\n",
        "        <dt><strong>Express.js</strong></dt>\n",
        "        <dd>A minimal and flexible Node.js web application framework that provides robust features for building APIs and web apps.</dd>\n",
        "\n",
        "        <dt><strong>MongoDB</strong></dt>\n",
        "        <dd>A NoSQL database that stores data in flexible, JSON-like documents.</dd>\n",
        "\n",
        "\n",
        "        <dt><strong>Git</strong></dt>\n",
        "        <dd>A distributed version control system for tracking changes in source code during software development.</dd>\n",
        "\n",
        "        <dt><strong>GitHub</strong></dt>\n",
        "        <dd>A platform for hosting and collaborating on Git repositories.</dd>\n",
        "\n",
        "\n",
        "      </dl>\n",
        "\n",
        "</body>\n",
        "</html>"
      ],
      "metadata": {
        "id": "_LIdsbe27H3g"
      },
      "execution_count": null,
      "outputs": []
    },
    {
      "cell_type": "markdown",
      "source": [
        "6. Create an ordered list of the full stack web development tech stack HTML, CSS, and JS. For each tech\n",
        "stack, create a table that lists the tech stack name, its primary use cases, and some key features or\n",
        "benefits. Below is a reference image."
      ],
      "metadata": {
        "id": "olMDayu_8g-K"
      }
    },
    {
      "cell_type": "code",
      "source": [
        "<!DOCTYPE html>\n",
        "<html lang=\"en\">\n",
        "<head>\n",
        "    <meta charset=\"UTF-8\">\n",
        "    <title>Full Stack Web Development Tech Stack</title>\n",
        "</head>\n",
        "<body>\n",
        "\n",
        "    <ol>\n",
        "        <li><strong>HTML</strong></li>\n",
        "        <table border=\"1\">\n",
        "            <tr>\n",
        "\n",
        "                <th>Primary Use Cases</th>\n",
        "                <th>Key Features / Benefits</th>\n",
        "            </tr>\n",
        "            <tr>\n",
        "\n",
        "                <td>\n",
        "                    Building the structure of web pages\n",
        "                </td>\n",
        "                <td>\n",
        "                    <ul>\n",
        "                        <li> Simple and easy to learn </li>\n",
        "                        <li>Compatible with all web browsers</li>\n",
        "                        <li>  Allows for semantic markup </li>\n",
        "                    </ul>\n",
        "                </td>\n",
        "            </tr>\n",
        "        </table>\n",
        "\n",
        "        <br/>\n",
        "\n",
        "        <li><strong>CSS</strong></li>\n",
        "        <table border=\"1\">\n",
        "            <tr>\n",
        "                <th>Primary Use Cases</th>\n",
        "                <th>Key Features / Benefits</th>\n",
        "            </tr>\n",
        "            <tr>\n",
        "\n",
        "                <td>\n",
        "                    Styling and layout of web pages\n",
        "                </td>\n",
        "                <td>\n",
        "                   <ul>\n",
        "                    <li> Allows for separation of content and presentation </li>\n",
        "                    <li> Enables responsive design </li>\n",
        "                    <li> Offers a wide range of styling options </li>\n",
        "\n",
        "                   </ul>\n",
        "                </td>\n",
        "            </tr>\n",
        "        </table>\n",
        "    </ol>\n",
        "\n",
        "</body>\n",
        "</html>\n"
      ],
      "metadata": {
        "id": "6_ywWhkWB9Da"
      },
      "execution_count": null,
      "outputs": []
    },
    {
      "cell_type": "markdown",
      "source": [
        "7 Build a complex nested list structure representing a multi-level table of contents. Use unordered lists\n",
        "(ul) and list items (li) with inline-block styling to create a structured layout. Apply formatting tags to\n",
        "enhance the presentation of list items."
      ],
      "metadata": {
        "id": "L7Sv3DxAwYGU"
      }
    },
    {
      "cell_type": "code",
      "source": [
        "<!DOCTYPE html>\n",
        "<html lang=\"en\">\n",
        "<head>\n",
        "    <meta charset=\"UTF-8\">\n",
        "    <meta name=\"viewport\" content=\"width=device-width, initial-scale=1.0\">\n",
        "    <title>Document</title>\n",
        "</head>\n",
        "<body>\n",
        "    <div>\n",
        "        <h1>Table of Content</h1>\n",
        "    </div>\n",
        "\n",
        "    <div>\n",
        "        <ul >\n",
        "            <li><u> Part 1 : Introduction </u></li>\n",
        "            <li><u>Part 2 : Getting started</u>\n",
        "\n",
        "            <ul>\n",
        "\n",
        "                <li><u>2.1 Installing the software</u></li>\n",
        "                <li><u>2.2 Creating a new project</u></li>\n",
        "                <ul>\n",
        "                    <li><u>2.2.1 Project Template</u></li>\n",
        "                    <li><u>Customize Settings</u></li>\n",
        "\n",
        "                </ul>\n",
        "                <li><u>2.3Exploring the Interface </u></li>\n",
        "                <ul>\n",
        "                    <li><u>2.3.1 Toolbar Features</u></li>\n",
        "                    <li><u>Panel Layout</u></li>\n",
        "                    <ul>\n",
        "                        <li><u>2.3.2.1 Docking panels</u></li>\n",
        "                        <li><u>2.3.2.2 Tabbed Interface </u></li>\n",
        "                    </ul>\n",
        "                </ul>\n",
        "            </ul>\n",
        "            </li>\n",
        "\n",
        "            <li><u>Part 3 : Advanced Topics</u></li>\n",
        "            <ul>\n",
        "                <li><u>3.1 Working with Plugins</u></li>\n",
        "                <ul>\n",
        "                    <li><u>3.1.1 Installing Plugins </u></li>\n",
        "                    <li><u>3.1.2 Plugin Configuration</u></li>\n",
        "                </ul>\n",
        "                <li><u>3.2 Customizing the UI</u></li>\n",
        "                <ul>\n",
        "                    <li><u>3.2.1 Changing Themes</u></li>\n",
        "                    <li><u>3.2.2 Configuring Shortcuts</u></li>\n",
        "                </ul>\n",
        "                <li><u>3.3 Optimizing Performance</u></li>\n",
        "                <ul>\n",
        "                    <li><u>3.3.1 Caching Strategies</u></li>\n",
        "                    <li><u>3.3.2 Resource Minification</u></li>\n",
        "                </ul>\n",
        "\n",
        "            </ul>\n",
        "            <li><u>Part 4 : Conlusion</u></li>\n",
        "        </ul>\n",
        "\n",
        "\n",
        "    </div>\n",
        "\n",
        "\n",
        "</body>\n",
        "</html>"
      ],
      "metadata": {
        "colab": {
          "base_uri": "https://localhost:8080/",
          "height": 106
        },
        "id": "se6HeS0uwhsR",
        "outputId": "73d54560-5907-4490-da12-3c96c2749ad4"
      },
      "execution_count": 1,
      "outputs": [
        {
          "output_type": "error",
          "ename": "SyntaxError",
          "evalue": "invalid decimal literal (<ipython-input-1-5ae9c15a8126>, line 27)",
          "traceback": [
            "\u001b[0;36m  File \u001b[0;32m\"<ipython-input-1-5ae9c15a8126>\"\u001b[0;36m, line \u001b[0;32m27\u001b[0m\n\u001b[0;31m    <li><u>2.3Exploring the Interface </u></li>\u001b[0m\n\u001b[0m             ^\u001b[0m\n\u001b[0;31mSyntaxError\u001b[0m\u001b[0;31m:\u001b[0m invalid decimal literal\n"
          ]
        }
      ]
    },
    {
      "cell_type": "markdown",
      "source": [
        "8. Create a table to display a conference schedule. Each row corresponds to a time slot, and each column\n",
        "corresponds to a room. Some time slots might have multiple sessions running simultaneously in different\n",
        "rooms. Utilize rowspan and colspan attributes as necessary to accommodate this complex schedule.\n",
        "(use table attribute “cellpadding”  to give extra padding in each table cell )."
      ],
      "metadata": {
        "id": "j8_Arll5xPXT"
      }
    },
    {
      "cell_type": "code",
      "source": [
        "<!DOCTYPE html>\n",
        "<html lang=\"en\">\n",
        "<head>\n",
        "    <meta charset=\"UTF-8\">\n",
        "    <meta name=\"viewport\" content=\"width=device-width, initial-scale=1.0\">\n",
        "    <title>Document</title>\n",
        "</head>\n",
        "<body>\n",
        "    <div>\n",
        "        <h1>Conference Schedule</h1>\n",
        "    </div>\n",
        "\n",
        "    <table cellspacing=\"1\" , cellpading=\"\" border=\"1\" align=\"centre\">\n",
        "\n",
        "        <tr>\n",
        "            <th>Time</th>\n",
        "            <th>Room1</th>\n",
        "            <th>Room2</th>\n",
        "            <th>Room3</th>\n",
        "            <th>Room4</th>\n",
        "        </tr>\n",
        "        <tr >\n",
        "            <td  rowspan=\"3\">9:00AM - 10:00AM</td>\n",
        "            <td rowspan=\"2\">Keynote</td>\n",
        "            <td>Session A </td>\n",
        "            <td>Session B </td>\n",
        "            <td rowspan=\"3\">Session C </td>\n",
        "        </tr>\n",
        "        <tr>\n",
        "            <td>Session D</td>\n",
        "            <td>Session E</td>\n",
        "\n",
        "        </tr>\n",
        "        <tr>\n",
        "            <td>10:AM - 11:30AM</td>\n",
        "            <td colspan=\"2\">Session F</td>\n",
        "\n",
        "\n",
        "\n",
        "\n",
        "        </tr>\n",
        "\n",
        "        <tr>\n",
        "            <td>12:00 PM - 1:00 PM</td>\n",
        "            <td colspan=\"4\"> Lunch Break</td>\n",
        "\n",
        "\n",
        "\n",
        "        </tr>\n",
        "\n",
        "        <tr>\n",
        "            <td rowspan=\"2\" > 1:00PM - 2:00PM</td>\n",
        "            <td>Session G</td>\n",
        "            <td rowspan=\"2\">Session H</td>\n",
        "            <td>Session I</td>\n",
        "            <td>Session J</td>\n",
        "\n",
        "        </tr>\n",
        "        <tr>\n",
        "            <td>Session K</td>\n",
        "            <td>Session L</td>\n",
        "            <td>Session M</td>\n",
        "        </tr>\n",
        "\n",
        "\n",
        "    </table>\n",
        "\n",
        "</body>\n",
        "</html>"
      ],
      "metadata": {
        "id": "8L6jg13rxVvw"
      },
      "execution_count": null,
      "outputs": []
    }
  ]
}